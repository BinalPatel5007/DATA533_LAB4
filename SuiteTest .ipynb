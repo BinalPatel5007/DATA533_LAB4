{
 "cells": [
  {
   "cell_type": "code",
   "execution_count": 5,
   "metadata": {},
   "outputs": [
    {
     "name": "stdout",
     "output_type": "stream",
     "text": [
      "setupClass\n",
      "setUp\n"
     ]
    },
    {
     "name": "stderr",
     "output_type": "stream",
     "text": [
      "."
     ]
    },
    {
     "name": "stdout",
     "output_type": "stream",
     "text": [
      "teardown\n",
      "setUp\n"
     ]
    },
    {
     "name": "stderr",
     "output_type": "stream",
     "text": [
      "."
     ]
    },
    {
     "name": "stdout",
     "output_type": "stream",
     "text": [
      "teardown\n",
      "teardownClass\n",
      "setupClass\n",
      "setUp\n"
     ]
    },
    {
     "name": "stderr",
     "output_type": "stream",
     "text": [
      "....."
     ]
    },
    {
     "name": "stdout",
     "output_type": "stream",
     "text": [
      "teardown\n",
      "teardownClass\n",
      "setupClass\n",
      "setUp\n",
      "teardown\n",
      "setUp\n",
      "teardown\n",
      "teardownClass\n",
      "setupClass\n",
      "setup\n",
      "teardown\n",
      "setup\n",
      "teardown\n",
      "teardownClass\n",
      "<unittest.runner.TextTestResult run=7 errors=0 failures=0>\n"
     ]
    },
    {
     "name": "stderr",
     "output_type": "stream",
     "text": [
      "\n",
      "----------------------------------------------------------------------\n",
      "Ran 7 tests in 17.042s\n",
      "\n",
      "OK\n",
      "Task exception was never retrieved\n",
      "future: <Task finished coro=<BaseClient._send() done, defined at C:\\Users\\Binal Patel\\New folder (2)\\lib\\site-packages\\slack\\web\\base_client.py:185> exception=SlackApiError(\"The request to the Slack API failed.\\nThe server responded with: {'ok': False, 'error': 'invalid_auth'}\",)>\n",
      "Traceback (most recent call last):\n",
      "  File \"C:\\Users\\Binal Patel\\New folder (2)\\lib\\site-packages\\slack\\web\\base_client.py\", line 226, in _send\n",
      "    return SlackResponse(**{**data, **res}).validate()\n",
      "  File \"C:\\Users\\Binal Patel\\New folder (2)\\lib\\site-packages\\slack\\web\\slack_response.py\", line 176, in validate\n",
      "    raise e.SlackApiError(message=msg, response=self)\n",
      "slack.errors.SlackApiError: The request to the Slack API failed.\n",
      "The server responded with: {'ok': False, 'error': 'invalid_auth'}\n",
      "Task exception was never retrieved\n",
      "future: <Task finished coro=<BaseClient._send() done, defined at C:\\Users\\Binal Patel\\New folder (2)\\lib\\site-packages\\slack\\web\\base_client.py:185> exception=SlackApiError(\"The request to the Slack API failed.\\nThe server responded with: {'ok': False, 'error': 'invalid_auth'}\",)>\n",
      "Traceback (most recent call last):\n",
      "  File \"C:\\Users\\Binal Patel\\New folder (2)\\lib\\site-packages\\slack\\web\\base_client.py\", line 226, in _send\n",
      "    return SlackResponse(**{**data, **res}).validate()\n",
      "  File \"C:\\Users\\Binal Patel\\New folder (2)\\lib\\site-packages\\slack\\web\\slack_response.py\", line 176, in validate\n",
      "    raise e.SlackApiError(message=msg, response=self)\n",
      "slack.errors.SlackApiError: The request to the Slack API failed.\n",
      "The server responded with: {'ok': False, 'error': 'invalid_auth'}\n"
     ]
    }
   ],
   "source": [
    "import unittest\n",
    "from emailsimpletest import TestEmailSimple\n",
    "from emailadvancedtest import TestEEmailAdv\n",
    "from slackmessagestest import TestSlackMessage\n",
    "from slackchanneltest import TestSlackChannel\n",
    "\n",
    "def my_suite():\n",
    "    suite = unittest.TestSuite()\n",
    "    result = unittest.TestResult()\n",
    "    suite.addTest(unittest.makeSuite(TestEmailSimple))\n",
    "    suite.addTest(unittest.makeSuite(TestEEmailAdv))\n",
    "    suite.addTest(unittest.makeSuite(TestSlackMessage))\n",
    "    suite.addTest(unittest.makeSuite(TestSlackChannel))\n",
    "    runner = unittest.TextTestRunner()\n",
    "    print(runner.run(suite))\n",
    "\n",
    "my_suite()"
   ]
  }
 ],
 "metadata": {
  "kernelspec": {
   "display_name": "Python 3",
   "language": "python",
   "name": "python3"
  },
  "language_info": {
   "codemirror_mode": {
    "name": "ipython",
    "version": 3
   },
   "file_extension": ".py",
   "mimetype": "text/x-python",
   "name": "python",
   "nbconvert_exporter": "python",
   "pygments_lexer": "ipython3",
   "version": "3.6.5"
  }
 },
 "nbformat": 4,
 "nbformat_minor": 2
}
